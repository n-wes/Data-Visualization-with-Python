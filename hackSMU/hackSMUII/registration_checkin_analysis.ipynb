{
 "cells": [
  {
   "cell_type": "code",
   "execution_count": 2,
   "metadata": {},
   "outputs": [],
   "source": [
    "import pandas as pd\n",
    "import matplotlib.pyplot as plt"
   ]
  },
  {
   "cell_type": "code",
   "execution_count": 3,
   "metadata": {},
   "outputs": [],
   "source": [
    "check_ins = pd.read_excel('check_ins.xlsx')\n",
    "registrations = pd.read_excel('registrations.xlsx')\n",
    "\n",
    "check_ins.loc[check_ins['Registered'] == \"Yes, I signed up ahead of time\", \"Registered\"] = \"Yes\"\n",
    "check_ins.loc[check_ins['Registered'] == \"No, I'm a walk-on\", \"Registered\"] = \"No\"\n"
   ]
  },
  {
   "cell_type": "code",
   "execution_count": 4,
   "metadata": {},
   "outputs": [
    {
     "data": {
      "text/html": [
       "<div>\n",
       "<style scoped>\n",
       "    .dataframe tbody tr th:only-of-type {\n",
       "        vertical-align: middle;\n",
       "    }\n",
       "\n",
       "    .dataframe tbody tr th {\n",
       "        vertical-align: top;\n",
       "    }\n",
       "\n",
       "    .dataframe thead th {\n",
       "        text-align: right;\n",
       "    }\n",
       "</style>\n",
       "<table border=\"1\" class=\"dataframe\">\n",
       "  <thead>\n",
       "    <tr style=\"text-align: right;\">\n",
       "      <th></th>\n",
       "      <th>First Name</th>\n",
       "      <th>School</th>\n",
       "      <th>Major</th>\n",
       "      <th>Skills</th>\n",
       "      <th>Gender</th>\n",
       "      <th>T-Shirt Size</th>\n",
       "      <th>Dietary Restrictions</th>\n",
       "    </tr>\n",
       "  </thead>\n",
       "  <tbody>\n",
       "    <tr>\n",
       "      <th>0</th>\n",
       "      <td>Kailash</td>\n",
       "      <td>The University of Texas at Dallas</td>\n",
       "      <td>Computer Science</td>\n",
       "      <td>UI/UX Design, Data Science, Software Engineeri...</td>\n",
       "      <td>Male</td>\n",
       "      <td>M</td>\n",
       "      <td>None, Prefer white meat</td>\n",
       "    </tr>\n",
       "    <tr>\n",
       "      <th>1</th>\n",
       "      <td>Larry</td>\n",
       "      <td>Southern Methodist University</td>\n",
       "      <td>Physics and Economics</td>\n",
       "      <td>Entrepreneurship, Data Science, Programming</td>\n",
       "      <td>Male</td>\n",
       "      <td>M</td>\n",
       "      <td>None</td>\n",
       "    </tr>\n",
       "    <tr>\n",
       "      <th>2</th>\n",
       "      <td>Mohammed</td>\n",
       "      <td>The University of Texas at Arlington</td>\n",
       "      <td>Computer Science</td>\n",
       "      <td>Software Engineering</td>\n",
       "      <td>Male</td>\n",
       "      <td>M</td>\n",
       "      <td>Halal</td>\n",
       "    </tr>\n",
       "    <tr>\n",
       "      <th>3</th>\n",
       "      <td>Afrida</td>\n",
       "      <td>The University of Texas at Dallas</td>\n",
       "      <td>Computer Science</td>\n",
       "      <td>Software Engineering</td>\n",
       "      <td>Female</td>\n",
       "      <td>S</td>\n",
       "      <td>No Pork</td>\n",
       "    </tr>\n",
       "    <tr>\n",
       "      <th>4</th>\n",
       "      <td>Ben</td>\n",
       "      <td>University of North Texas</td>\n",
       "      <td>Computer Science</td>\n",
       "      <td>Data Science, Software Engineering, Entreprene...</td>\n",
       "      <td>Male</td>\n",
       "      <td>M</td>\n",
       "      <td>None</td>\n",
       "    </tr>\n",
       "  </tbody>\n",
       "</table>\n",
       "</div>"
      ],
      "text/plain": [
       "  First Name                                School                  Major  \\\n",
       "0    Kailash     The University of Texas at Dallas       Computer Science   \n",
       "1      Larry         Southern Methodist University  Physics and Economics   \n",
       "2   Mohammed  The University of Texas at Arlington       Computer Science   \n",
       "3     Afrida     The University of Texas at Dallas       Computer Science   \n",
       "4        Ben             University of North Texas       Computer Science   \n",
       "\n",
       "                                              Skills  Gender T-Shirt Size  \\\n",
       "0  UI/UX Design, Data Science, Software Engineeri...    Male            M   \n",
       "1        Entrepreneurship, Data Science, Programming    Male            M   \n",
       "2                               Software Engineering    Male            M   \n",
       "3                               Software Engineering  Female            S   \n",
       "4  Data Science, Software Engineering, Entreprene...    Male            M   \n",
       "\n",
       "      Dietary Restrictions  \n",
       "0  None, Prefer white meat  \n",
       "1                     None  \n",
       "2                    Halal  \n",
       "3                  No Pork  \n",
       "4                     None  "
      ]
     },
     "execution_count": 4,
     "metadata": {},
     "output_type": "execute_result"
    }
   ],
   "source": [
    "registrations.head()"
   ]
  },
  {
   "cell_type": "code",
   "execution_count": 5,
   "metadata": {},
   "outputs": [
    {
     "data": {
      "text/html": [
       "<div>\n",
       "<style scoped>\n",
       "    .dataframe tbody tr th:only-of-type {\n",
       "        vertical-align: middle;\n",
       "    }\n",
       "\n",
       "    .dataframe tbody tr th {\n",
       "        vertical-align: top;\n",
       "    }\n",
       "\n",
       "    .dataframe thead th {\n",
       "        text-align: right;\n",
       "    }\n",
       "</style>\n",
       "<table border=\"1\" class=\"dataframe\">\n",
       "  <thead>\n",
       "    <tr style=\"text-align: right;\">\n",
       "      <th></th>\n",
       "      <th>Timestamp</th>\n",
       "      <th>Name</th>\n",
       "      <th>University</th>\n",
       "      <th>Interests</th>\n",
       "      <th>Registered</th>\n",
       "    </tr>\n",
       "  </thead>\n",
       "  <tbody>\n",
       "    <tr>\n",
       "      <th>0</th>\n",
       "      <td>2020-02-01 11:02:31.708</td>\n",
       "      <td>Choi Jeongwoo</td>\n",
       "      <td>University of North Texas</td>\n",
       "      <td>Software Engineering</td>\n",
       "      <td>Yes</td>\n",
       "    </tr>\n",
       "    <tr>\n",
       "      <th>1</th>\n",
       "      <td>2020-02-01 11:02:40.686</td>\n",
       "      <td>Kaney Nguyen</td>\n",
       "      <td>Southern Methodist University</td>\n",
       "      <td>Software Engineering</td>\n",
       "      <td>Yes</td>\n",
       "    </tr>\n",
       "    <tr>\n",
       "      <th>2</th>\n",
       "      <td>2020-02-01 11:04:00.259</td>\n",
       "      <td>Anthony</td>\n",
       "      <td>Southern Methodist University</td>\n",
       "      <td>Software Engineering</td>\n",
       "      <td>No</td>\n",
       "    </tr>\n",
       "    <tr>\n",
       "      <th>3</th>\n",
       "      <td>2020-02-01 11:04:03.590</td>\n",
       "      <td>Nathaniel Brown</td>\n",
       "      <td>University of North Texas</td>\n",
       "      <td>Computer Science</td>\n",
       "      <td>Yes</td>\n",
       "    </tr>\n",
       "    <tr>\n",
       "      <th>4</th>\n",
       "      <td>2020-02-01 11:04:12.503</td>\n",
       "      <td>Sridhar Nandigam</td>\n",
       "      <td>University of North Texas</td>\n",
       "      <td>Software Engineering, Data Science, Entreprene...</td>\n",
       "      <td>Yes</td>\n",
       "    </tr>\n",
       "  </tbody>\n",
       "</table>\n",
       "</div>"
      ],
      "text/plain": [
       "                Timestamp              Name                      University  \\\n",
       "0 2020-02-01 11:02:31.708     Choi Jeongwoo       University of North Texas   \n",
       "1 2020-02-01 11:02:40.686      Kaney Nguyen   Southern Methodist University   \n",
       "2 2020-02-01 11:04:00.259           Anthony  Southern Methodist University    \n",
       "3 2020-02-01 11:04:03.590   Nathaniel Brown       University of North Texas   \n",
       "4 2020-02-01 11:04:12.503  Sridhar Nandigam      University of North Texas    \n",
       "\n",
       "                                           Interests Registered  \n",
       "0                               Software Engineering        Yes  \n",
       "1                               Software Engineering        Yes  \n",
       "2                               Software Engineering         No  \n",
       "3                                   Computer Science        Yes  \n",
       "4  Software Engineering, Data Science, Entreprene...        Yes  "
      ]
     },
     "execution_count": 5,
     "metadata": {},
     "output_type": "execute_result"
    }
   ],
   "source": [
    "check_ins.head()"
   ]
  },
  {
   "cell_type": "code",
   "execution_count": 6,
   "metadata": {},
   "outputs": [
    {
     "name": "stdout",
     "output_type": "stream",
     "text": [
      "<class 'pandas.core.frame.DataFrame'>\n",
      "RangeIndex: 98 entries, 0 to 97\n",
      "Data columns (total 7 columns):\n",
      " #   Column                Non-Null Count  Dtype \n",
      "---  ------                --------------  ----- \n",
      " 0   First Name            98 non-null     object\n",
      " 1   School                98 non-null     object\n",
      " 2   Major                 98 non-null     object\n",
      " 3   Skills                96 non-null     object\n",
      " 4   Gender                98 non-null     object\n",
      " 5   T-Shirt Size          98 non-null     object\n",
      " 6   Dietary Restrictions  98 non-null     object\n",
      "dtypes: object(7)\n",
      "memory usage: 5.5+ KB\n"
     ]
    }
   ],
   "source": [
    "registrations.info()"
   ]
  },
  {
   "cell_type": "code",
   "execution_count": 7,
   "metadata": {},
   "outputs": [
    {
     "name": "stdout",
     "output_type": "stream",
     "text": [
      "<class 'pandas.core.frame.DataFrame'>\n",
      "RangeIndex: 71 entries, 0 to 70\n",
      "Data columns (total 5 columns):\n",
      " #   Column      Non-Null Count  Dtype         \n",
      "---  ------      --------------  -----         \n",
      " 0   Timestamp   71 non-null     datetime64[ns]\n",
      " 1   Name        71 non-null     object        \n",
      " 2   University  71 non-null     object        \n",
      " 3   Interests   70 non-null     object        \n",
      " 4   Registered  71 non-null     object        \n",
      "dtypes: datetime64[ns](1), object(4)\n",
      "memory usage: 2.9+ KB\n"
     ]
    }
   ],
   "source": [
    "check_ins.info()"
   ]
  },
  {
   "cell_type": "code",
   "execution_count": 41,
   "metadata": {},
   "outputs": [
    {
     "data": {
      "text/html": [
       "<div>\n",
       "<style scoped>\n",
       "    .dataframe tbody tr th:only-of-type {\n",
       "        vertical-align: middle;\n",
       "    }\n",
       "\n",
       "    .dataframe tbody tr th {\n",
       "        vertical-align: top;\n",
       "    }\n",
       "\n",
       "    .dataframe thead th {\n",
       "        text-align: right;\n",
       "    }\n",
       "</style>\n",
       "<table border=\"1\" class=\"dataframe\">\n",
       "  <thead>\n",
       "    <tr style=\"text-align: right;\">\n",
       "      <th></th>\n",
       "      <th>School</th>\n",
       "      <th>Count</th>\n",
       "    </tr>\n",
       "  </thead>\n",
       "  <tbody>\n",
       "    <tr>\n",
       "      <th>0</th>\n",
       "      <td>Southern Methodist University</td>\n",
       "      <td>43</td>\n",
       "    </tr>\n",
       "    <tr>\n",
       "      <th>1</th>\n",
       "      <td>The University of Texas at Dallas</td>\n",
       "      <td>17</td>\n",
       "    </tr>\n",
       "    <tr>\n",
       "      <th>2</th>\n",
       "      <td>University of North Texas</td>\n",
       "      <td>15</td>\n",
       "    </tr>\n",
       "    <tr>\n",
       "      <th>3</th>\n",
       "      <td>University of Houston</td>\n",
       "      <td>5</td>\n",
       "    </tr>\n",
       "    <tr>\n",
       "      <th>4</th>\n",
       "      <td>The University of Texas at Austin</td>\n",
       "      <td>3</td>\n",
       "    </tr>\n",
       "    <tr>\n",
       "      <th>5</th>\n",
       "      <td>University of Houston-Downtown</td>\n",
       "      <td>3</td>\n",
       "    </tr>\n",
       "    <tr>\n",
       "      <th>6</th>\n",
       "      <td>Liberty High School</td>\n",
       "      <td>3</td>\n",
       "    </tr>\n",
       "    <tr>\n",
       "      <th>7</th>\n",
       "      <td>Centennial High School</td>\n",
       "      <td>2</td>\n",
       "    </tr>\n",
       "    <tr>\n",
       "      <th>8</th>\n",
       "      <td>The University of Texas at Arlington</td>\n",
       "      <td>2</td>\n",
       "    </tr>\n",
       "    <tr>\n",
       "      <th>9</th>\n",
       "      <td>Independence High School</td>\n",
       "      <td>1</td>\n",
       "    </tr>\n",
       "    <tr>\n",
       "      <th>10</th>\n",
       "      <td>Plano West Senior High School</td>\n",
       "      <td>1</td>\n",
       "    </tr>\n",
       "    <tr>\n",
       "      <th>11</th>\n",
       "      <td>Harmony Science Academy</td>\n",
       "      <td>1</td>\n",
       "    </tr>\n",
       "    <tr>\n",
       "      <th>12</th>\n",
       "      <td>University of California, San Diego</td>\n",
       "      <td>1</td>\n",
       "    </tr>\n",
       "    <tr>\n",
       "      <th>13</th>\n",
       "      <td>Liberty High School, Frisco</td>\n",
       "      <td>1</td>\n",
       "    </tr>\n",
       "  </tbody>\n",
       "</table>\n",
       "</div>"
      ],
      "text/plain": [
       "                                  School  Count\n",
       "0          Southern Methodist University     43\n",
       "1      The University of Texas at Dallas     17\n",
       "2              University of North Texas     15\n",
       "3                  University of Houston      5\n",
       "4      The University of Texas at Austin      3\n",
       "5         University of Houston-Downtown      3\n",
       "6                    Liberty High School      3\n",
       "7                 Centennial High School      2\n",
       "8   The University of Texas at Arlington      2\n",
       "9               Independence High School      1\n",
       "10         Plano West Senior High School      1\n",
       "11               Harmony Science Academy      1\n",
       "12   University of California, San Diego      1\n",
       "13           Liberty High School, Frisco      1"
      ]
     },
     "execution_count": 41,
     "metadata": {},
     "output_type": "execute_result"
    }
   ],
   "source": [
    "registrations['School'].value_counts().rename_axis('School').reset_index(name='Count')"
   ]
  },
  {
   "cell_type": "code",
   "execution_count": 12,
   "metadata": {},
   "outputs": [
    {
     "data": {
      "image/png": "[encoded data removed]",
      "text/plain": [
       "<Figure size 432x288 with 1 Axes>"
      ]
     },
     "metadata": {
      "needs_background": "light"
     },
     "output_type": "display_data"
    }
   ],
   "source": [
    "registrations['School'].value_counts(ascending=True).plot.barh()\n",
    "plt.show()"
   ]
  },
  {
   "cell_type": "code",
   "execution_count": 9,
   "metadata": {},
   "outputs": [
    {
     "name": "stdout",
     "output_type": "stream",
     "text": [
      "<class 'pandas.core.frame.DataFrame'>\n",
      "RangeIndex: 71 entries, 0 to 70\n",
      "Data columns (total 5 columns):\n",
      " #   Column      Non-Null Count  Dtype         \n",
      "---  ------      --------------  -----         \n",
      " 0   Timestamp   71 non-null     datetime64[ns]\n",
      " 1   Name        71 non-null     object        \n",
      " 2   University  71 non-null     object        \n",
      " 3   Interests   70 non-null     object        \n",
      " 4   Registered  71 non-null     object        \n",
      "dtypes: datetime64[ns](1), object(4)\n",
      "memory usage: 2.9+ KB\n"
     ]
    }
   ],
   "source": [
    "check_ins.info()"
   ]
  },
  {
   "cell_type": "code",
   "execution_count": 43,
   "metadata": {},
   "outputs": [
    {
     "data": {
      "text/html": [
       "<div>\n",
       "<style scoped>\n",
       "    .dataframe tbody tr th:only-of-type {\n",
       "        vertical-align: middle;\n",
       "    }\n",
       "\n",
       "    .dataframe tbody tr th {\n",
       "        vertical-align: top;\n",
       "    }\n",
       "\n",
       "    .dataframe thead th {\n",
       "        text-align: right;\n",
       "    }\n",
       "</style>\n",
       "<table border=\"1\" class=\"dataframe\">\n",
       "  <thead>\n",
       "    <tr style=\"text-align: right;\">\n",
       "      <th></th>\n",
       "      <th>School</th>\n",
       "      <th>Count</th>\n",
       "    </tr>\n",
       "  </thead>\n",
       "  <tbody>\n",
       "    <tr>\n",
       "      <th>0</th>\n",
       "      <td>Southern Methodist University</td>\n",
       "      <td>53</td>\n",
       "    </tr>\n",
       "    <tr>\n",
       "      <th>1</th>\n",
       "      <td>University of North Texas</td>\n",
       "      <td>4</td>\n",
       "    </tr>\n",
       "    <tr>\n",
       "      <th>2</th>\n",
       "      <td>Liberty High School</td>\n",
       "      <td>3</td>\n",
       "    </tr>\n",
       "    <tr>\n",
       "      <th>3</th>\n",
       "      <td>University of Texas at Dallas</td>\n",
       "      <td>3</td>\n",
       "    </tr>\n",
       "    <tr>\n",
       "      <th>4</th>\n",
       "      <td>Independence High School</td>\n",
       "      <td>1</td>\n",
       "    </tr>\n",
       "    <tr>\n",
       "      <th>5</th>\n",
       "      <td>University of Texas at Austin</td>\n",
       "      <td>1</td>\n",
       "    </tr>\n",
       "    <tr>\n",
       "      <th>6</th>\n",
       "      <td>TAMS</td>\n",
       "      <td>1</td>\n",
       "    </tr>\n",
       "    <tr>\n",
       "      <th>7</th>\n",
       "      <td>Southern Methodist University</td>\n",
       "      <td>1</td>\n",
       "    </tr>\n",
       "    <tr>\n",
       "      <th>8</th>\n",
       "      <td>Centenniel High School</td>\n",
       "      <td>1</td>\n",
       "    </tr>\n",
       "    <tr>\n",
       "      <th>9</th>\n",
       "      <td>University of North Texas</td>\n",
       "      <td>1</td>\n",
       "    </tr>\n",
       "    <tr>\n",
       "      <th>10</th>\n",
       "      <td>Harmony Science Academy</td>\n",
       "      <td>1</td>\n",
       "    </tr>\n",
       "    <tr>\n",
       "      <th>11</th>\n",
       "      <td>Centennial High school</td>\n",
       "      <td>1</td>\n",
       "    </tr>\n",
       "  </tbody>\n",
       "</table>\n",
       "</div>"
      ],
      "text/plain": [
       "                            School  Count\n",
       "0    Southern Methodist University     53\n",
       "1        University of North Texas      4\n",
       "2              Liberty High School      3\n",
       "3    University of Texas at Dallas      3\n",
       "4         Independence High School      1\n",
       "5    University of Texas at Austin      1\n",
       "6                             TAMS      1\n",
       "7   Southern Methodist University       1\n",
       "8           Centenniel High School      1\n",
       "9       University of North Texas       1\n",
       "10         Harmony Science Academy      1\n",
       "11          Centennial High school      1"
      ]
     },
     "execution_count": 43,
     "metadata": {},
     "output_type": "execute_result"
    }
   ],
   "source": [
    "check_ins['University'].value_counts().rename_axis('School').reset_index(name='Count')"
   ]
  },
  {
   "cell_type": "code",
   "execution_count": 45,
   "metadata": {},
   "outputs": [
    {
     "data": {
      "image/png": "[encoded data removed]",
      "text/plain": [
       "<Figure size 432x288 with 1 Axes>"
      ]
     },
     "metadata": {
      "needs_background": "light"
     },
     "output_type": "display_data"
    }
   ],
   "source": [
    "check_ins['University'].value_counts(ascending=True).plot.barh()\n",
    "plt.show()"
   ]
  },
  {
   "cell_type": "code",
   "execution_count": 62,
   "metadata": {},
   "outputs": [
    {
     "data": {
      "text/plain": [
       "<matplotlib.axes._subplots.AxesSubplot at 0x7f320cf09c88>"
      ]
     },
     "execution_count": 62,
     "metadata": {},
     "output_type": "execute_result"
    },
    {
     "data": {
      "image/png": "[encoded data removed]",
      "text/plain": [
       "<Figure size 432x288 with 1 Axes>"
      ]
     },
     "metadata": {},
     "output_type": "display_data"
    }
   ],
   "source": [
    "registrations['School Type'] = registrations.apply(lambda row: \"High School\" if any(x in row['School'] for x in [\"High School\", \"TAMS\", \"Academy\"]) else \"University\" , axis=1)\n",
    "registrations['School Type'].value_counts().plot.pie()"
   ]
  },
  {
   "cell_type": "code",
   "execution_count": 11,
   "metadata": {},
   "outputs": [
    {
     "data": {
      "text/plain": [
       "<matplotlib.axes._subplots.AxesSubplot at 0x7f32100067f0>"
      ]
     },
     "execution_count": 11,
     "metadata": {},
     "output_type": "execute_result"
    },
    {
     "data": {
      "image/png": "[encoded data removed]",
      "text/plain": [
       "<Figure size 432x288 with 1 Axes>"
      ]
     },
     "metadata": {},
     "output_type": "display_data"
    }
   ],
   "source": [
    "check_ins['Registered'].value_counts().plot.pie()"
   ]
  }
 ],
 "metadata": {
  "kernelspec": {
   "display_name": "Python 3",
   "language": "python",
   "name": "python3"
  },
  "language_info": {
   "codemirror_mode": {
    "name": "ipython",
    "version": 3
   },
   "file_extension": ".py",
   "mimetype": "text/x-python",
   "name": "python",
   "nbconvert_exporter": "python",
   "pygments_lexer": "ipython3",
   "version": "3.7.3"
  }
 },
 "nbformat": 4,
 "nbformat_minor": 4
}
